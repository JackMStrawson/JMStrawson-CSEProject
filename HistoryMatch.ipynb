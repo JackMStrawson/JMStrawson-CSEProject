{
 "cells": [
  {
   "cell_type": "code",
   "execution_count": 9,
   "metadata": {},
   "outputs": [],
   "source": [
    "import numpy as np\n",
    "import pandas as pd\n",
    "import scipy.sparse\n",
    "import scipy.sparse.linalg\n",
    "from scipy import optimize\n",
    "import yaml\n",
    "import timeit\n",
    "\n",
    "from assignment13 import OneDimReservoir"
   ]
  },
  {
   "cell_type": "code",
   "execution_count": 129,
   "metadata": {},
   "outputs": [],
   "source": [
    "class SolvePermeabilityNewtonKrylov(OneDimReservoir):\n",
    "    \n",
    "    def __init__(self, inputs, history):\n",
    "        \n",
    "        #stores input dictionary as class attribute, either read from a yaml\n",
    "        #file or directly from a Python dictonary\n",
    "        if isinstance(inputs, str):\n",
    "            with open(inputs) as f:\n",
    "                self.inputs = yaml.load(f, yaml.FullLoader)\n",
    "        else:\n",
    "            self.inputs = inputs\n",
    "        \n",
    "        #Define attribute\n",
    "        self.history = history\n",
    "        self.k_array_length = len(self.history)\n",
    "        \n",
    "        #Initiate OneDimReservoir and obtain initial guess\n",
    "        self.reservoir = OneDimReservoir(self.inputs)\n",
    "        self.initial_guess = self.reservoir.k\n",
    "\n",
    "        return\n",
    "    \n",
    "    def run_res_sim(self, k):\n",
    "        #Runs through OneDimReservoir to obtain final pressure values\n",
    "        \n",
    "        #Change permeability values\n",
    "\n",
    "        self.reservoir.k = k \n",
    "        \n",
    "        #Reapply initial conditions\n",
    "        \n",
    "        self.reservoir.apply_initial_conditions()\n",
    "        \n",
    "        #Solve for pressures with new permeabilities\n",
    "        \n",
    "        self.reservoir.fill_matrices()\n",
    "        \n",
    "        self.reservoir.solve()\n",
    "        \n",
    "        return self.reservoir.get_solution()\n",
    "    \n",
    "    def optimize_k(self):\n",
    "        #Use scipy optimizer to solve for each grid blocks permeability\n",
    "        \n",
    "        #Initiate functions and attributes\n",
    "        run_res_sim = self.run_res_sim\n",
    "        history = self.history\n",
    "        k = self.initial_guess\n",
    "        \n",
    "        #Fine real permeability\n",
    "        optimized_k = optimize.newton_krylov(\n",
    "            lambda k:(run_res_sim(k) - history)**2, k)\n",
    "                \n",
    "        return optimized_k"
   ]
  },
  {
   "cell_type": "code",
   "execution_count": 132,
   "metadata": {},
   "outputs": [],
   "source": [
    "# Solution = OneDimReservoir('Hetero(100-200)mD.yml')\n",
    "# k = Solution.k\n",
    "# Solution.solve()\n",
    "# SolutionPressure = Solution.get_solution()"
   ]
  },
  {
   "cell_type": "code",
   "execution_count": 133,
   "metadata": {},
   "outputs": [],
   "source": [
    "# match = SolvePermeabilityNewtonKrylov('80mD.yml', SolutionPressure)\n",
    "# %prun match.optimize_k()"
   ]
  },
  {
   "cell_type": "code",
   "execution_count": 134,
   "metadata": {},
   "outputs": [],
   "source": [
    "# match = Solve_permeability_newton_krylov('80mD.yml', SolutionPressure)\n",
    "# %timeit match.optimize_k()\n",
    "# newk = match.optimize_k()\n",
    "# print(np.array(k))\n",
    "# print(newk.tolist())\n",
    "# for i in range(len(newk)):\n",
    "#     print(abs(newk[i]-k[i]))"
   ]
  },
  {
   "cell_type": "code",
   "execution_count": null,
   "metadata": {},
   "outputs": [],
   "source": []
  }
 ],
 "metadata": {
  "kernelspec": {
   "display_name": "Python 3",
   "language": "python",
   "name": "python3"
  },
  "language_info": {
   "codemirror_mode": {
    "name": "ipython",
    "version": 3
   },
   "file_extension": ".py",
   "mimetype": "text/x-python",
   "name": "python",
   "nbconvert_exporter": "python",
   "pygments_lexer": "ipython3",
   "version": "3.8.1"
  }
 },
 "nbformat": 4,
 "nbformat_minor": 4
}
