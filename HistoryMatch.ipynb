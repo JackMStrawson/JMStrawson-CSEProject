{
 "cells": [
  {
   "cell_type": "code",
   "execution_count": 1,
   "metadata": {},
   "outputs": [],
   "source": [
    "import numpy as np\n",
    "import matplotlib.pyplot as plt\n",
    "import scipy.sparse\n",
    "import scipy.sparse.linalg\n",
    "from scipy import optimize\n",
    "from sklearn.base import BaseEstimator\n",
    "from sklearn.base import RegressorMixin\n",
    "from sklearn.utils.validation import check_X_y, check_array, check_is_fitted\n",
    "from sklearn.linear_model import LinearRegression\n",
    "from sklearn.datasets import load_boston\n",
    "import yaml\n",
    "import timeit\n",
    "from assignment13 import OneDimReservoir"
   ]
  },
  {
   "cell_type": "code",
   "execution_count": 150,
   "metadata": {},
   "outputs": [],
   "source": [
    "class PermeabilityEstimator(BaseEstimator, RegressorMixin, OneDimReservoir):\n",
    "    \n",
    "    def __init__(self, inputs, subestimator = None):\n",
    "        \n",
    "        #stores input dictionary as class attribute, either read from a yaml\n",
    "        #file or directly from a Python dictonary\n",
    "        if isinstance(inputs, str):\n",
    "            with open(inputs) as f:\n",
    "                self.inputs = yaml.load(f, yaml.FullLoader)\n",
    "        else:\n",
    "            self.inputs = inputs\n",
    "        \n",
    "        #Initiate OneDimReservoir and obtain initial guess\n",
    "        self.reservoir = OneDimReservoir(self.inputs)\n",
    "        self.k_array_length = len(self.reservoir.k)\n",
    "        self.subestimator = subestimator\n",
    "        \n",
    "        return\n",
    "    \n",
    "    def run_res_sim(self, k):\n",
    "        #Runs through OneDimReservoir to obtain final pressure values\n",
    "        \n",
    "        #Change permeability values\n",
    "\n",
    "        self.reservoir.k = k \n",
    "        \n",
    "        #Reapply initial conditions\n",
    "        \n",
    "        self.reservoir.apply_initial_conditions()\n",
    "        \n",
    "        #Solve for pressures with new permeabilities\n",
    "        \n",
    "        self.reservoir.fill_matrices()\n",
    "        \n",
    "        self.reservoir.solve()\n",
    "        \n",
    "        return self.reservoir.get_solution()\n",
    "    \n",
    "    def fit(self, k, history):\n",
    "        \n",
    "        #Initiate function\n",
    "        run_res_sim = self.run_res_sim\n",
    "        \n",
    "        #Fine real permeability\n",
    "        self.coef_ = optimize.newton_krylov(\n",
    "            lambda k:(run_res_sim(k) - history)**2, k)\n",
    "                \n",
    "        return self    \n",
    "    \n",
    "    def predict(self, k):\n",
    "        \n",
    "        return self.run_res_sim(k)"
   ]
  },
  {
   "cell_type": "code",
   "execution_count": 175,
   "metadata": {},
   "outputs": [],
   "source": [
    "# Solution = OneDimReservoir('Hetero(100-200)mD.yml')\n",
    "# Solution.solve()\n",
    "# SolutionPressure = Solution.get_solution()\n",
    "# print(SolutionPressure)\n",
    "# k = np.ones(50) * 150"
   ]
  },
  {
   "cell_type": "code",
   "execution_count": 174,
   "metadata": {},
   "outputs": [],
   "source": [
    "# l = PermeabilityEstimator('Hetero(100-200)mD.yml')\n",
    "# l.fit(k, SolutionPressure)\n",
    "# NewSolution = l.predict(l.coef_)\n",
    "# print(l.score(k, GuessPressure))\n",
    "# print(l.score(k, SolutionPressure))\n",
    "# print(l.score(l.coef_, SolutionPressure))\n",
    "# # for i in range(len(k)):\n",
    "# #     error = abs(l.coef_[i]-80)\n",
    "# #     print(error)\n",
    "# # print(sum(abs(l.coef_-80)))\n",
    "# print(l.coef_)"
   ]
  },
  {
   "cell_type": "code",
   "execution_count": 173,
   "metadata": {},
   "outputs": [],
   "source": [
    "# Guess = OneDimReservoir('100mD.yml')\n",
    "# Guess.solve()\n",
    "# GuessPressure = Guess.get_solution()\n",
    "# print(GuessPressure)"
   ]
  },
  {
   "cell_type": "code",
   "execution_count": 171,
   "metadata": {},
   "outputs": [],
   "source": [
    "# print(SolutionPressure)\n",
    "# print(NewSolution)\n",
    "# print(GuessPressure)"
   ]
  },
  {
   "cell_type": "code",
   "execution_count": 172,
   "metadata": {},
   "outputs": [],
   "source": [
    "# plt.plot(NewSolution, SolutionPressure)"
   ]
  },
  {
   "cell_type": "code",
   "execution_count": 11,
   "metadata": {},
   "outputs": [],
   "source": [
    "# match = SolvePermeabilityNewtonKrylov('80mD2.0.yml', SolutionPressure)\n",
    "# %prun match.optimize_k()"
   ]
  },
  {
   "cell_type": "code",
   "execution_count": null,
   "metadata": {},
   "outputs": [],
   "source": []
  }
 ],
 "metadata": {
  "kernelspec": {
   "display_name": "Python 3",
   "language": "python",
   "name": "python3"
  },
  "language_info": {
   "codemirror_mode": {
    "name": "ipython",
    "version": 3
   },
   "file_extension": ".py",
   "mimetype": "text/x-python",
   "name": "python",
   "nbconvert_exporter": "python",
   "pygments_lexer": "ipython3",
   "version": "3.8.1"
  }
 },
 "nbformat": 4,
 "nbformat_minor": 4
}
